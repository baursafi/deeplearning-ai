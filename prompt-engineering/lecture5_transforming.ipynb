{
 "cells": [
  {
   "cell_type": "code",
   "execution_count": 1,
   "id": "a1832ccf",
   "metadata": {},
   "outputs": [],
   "source": [
    "from utils.functions import get_completion"
   ]
  },
  {
   "cell_type": "code",
   "execution_count": 2,
   "id": "eed2d5fe",
   "metadata": {},
   "outputs": [
    {
     "name": "stdout",
     "output_type": "stream",
     "text": [
      "Hola, me gustaría ordenar una licuadora.\n"
     ]
    }
   ],
   "source": [
    "prompt = f\"\"\"\n",
    "Tranlate the folowing English text to Spanish: \\\n",
    "'''Hi, I would like to order a blender'''\n",
    "\"\"\"\n",
    "\n",
    "response = get_completion(prompt)\n",
    "print(response)"
   ]
  },
  {
   "cell_type": "code",
   "execution_count": 3,
   "id": "7ba263a9",
   "metadata": {},
   "outputs": [
    {
     "name": "stdout",
     "output_type": "stream",
     "text": [
      "This sentence is in French.\n"
     ]
    }
   ],
   "source": [
    "prompt = f\"\"\"\n",
    "Tell me which language this is: \\\n",
    "'''Combien coute le lampadaire'''\n",
    "\"\"\"\n",
    "\n",
    "response = get_completion(prompt)\n",
    "print(response)"
   ]
  },
  {
   "cell_type": "code",
   "execution_count": 4,
   "id": "bfe05c31",
   "metadata": {},
   "outputs": [
    {
     "name": "stdout",
     "output_type": "stream",
     "text": [
      "French: C'était une longue journée, mais je suis heureux de ce que j'ai accompli.\n",
      "Spanish: Fue un día largo, pero estoy feliz con lo que he logrado.\n",
      "Kazakh: Бұл ұзақ күн болды, бірақ мен жасалған несімдімінен қуаныштымын.\n"
     ]
    }
   ],
   "source": [
    "prompt = f\"\"\"\n",
    "Translate the following text to French, Spanish, and Kazakh \\\n",
    "'''It was a long day, but I am happy with what I have achieved'''\n",
    "\"\"\"\n",
    "\n",
    "response = get_completion(prompt)\n",
    "print(response)"
   ]
  },
  {
   "cell_type": "code",
   "execution_count": 11,
   "id": "60368d41",
   "metadata": {},
   "outputs": [],
   "source": [
    "text = \"\"\"\n",
    "When it comes to making decisions, we humans aren’t always independent thinkers. From buying our morning coffee to big-ticket items like a new car, we depend on our network’s opinions, advice, or perspectives for making the right decision. \n",
    "With the internet, those networks get way, way bigger. We’re no longer confined to just friends, family, and coworkers—we can see what people all around the world think with just a quick Google search. \n",
    "And these customer reviews hold serious weight with shoppers. Online reviews—either positive or negative—can impact over 93% of consumers’ decisions.1 \n",
    "While reviews can accumulate on their own, they shouldn’t exist in a vacuum. Knowing how to ask for reviews, leverage them to get more business, and respond to less-than-favorable customer testimonials can improve your business image and land you more long-lasting customers. \n",
    "\n",
    "\"\"\"\n",
    "\n",
    "prompt = f\"\"\"\n",
    "proofread and correct this review.Make it more compelling.\n",
    "Ensure it follows APA style guide and targets as advanced reader.\n",
    "Output in markdown format.\n",
    "Text: '''{text}'''\"\"\"\n",
    "\n",
    "response = get_completion(prompt)"
   ]
  },
  {
   "cell_type": "code",
   "execution_count": 12,
   "id": "993f30af",
   "metadata": {},
   "outputs": [
    {
     "data": {
      "text/markdown": [
       "# Review: The Power of Customer Reviews in Decision-Making\n",
       "\n",
       "When it comes to decision-making, humans often rely on the opinions and perspectives of others. Whether it's choosing our morning coffee or making a significant purchase like a new car, we seek guidance from our network to ensure we make the right choice. \n",
       "\n",
       "In today's digital age, the power of these networks has expanded exponentially. No longer limited to the advice of friends, family, and coworkers, we now have access to the thoughts and experiences of people from all around the world with just a quick Google search. \n",
       "\n",
       "The influence of customer reviews in shaping consumer decisions cannot be underestimated. In fact, research shows that online reviews, whether positive or negative, have the potential to impact over 93% of consumers' choices (Author, Year). \n",
       "\n",
       "However, customer reviews should not be left to accumulate on their own. Instead, businesses should actively seek out reviews, utilize them to attract more customers, and effectively respond to any negative feedback. By mastering these strategies, businesses can enhance their image, build trust, and ultimately secure a loyal customer base. \n",
       "\n",
       "In conclusion, customer reviews have become a powerful tool in the decision-making process. As an advanced reader, it is crucial to recognize the significance of these reviews and understand how businesses can leverage them to their advantage. By embracing the power of customer feedback, businesses can thrive in today's competitive market and establish long-lasting relationships with their customers.\n",
       "\n",
       "Reference:\n",
       "Author. (Year). Title of the Study. Journal Name, Volume(Issue), Page-Page."
      ],
      "text/plain": [
       "<IPython.core.display.Markdown object>"
      ]
     },
     "metadata": {},
     "output_type": "display_data"
    }
   ],
   "source": [
    "from IPython.display import display, Markdown\n",
    "display(Markdown(response))"
   ]
  },
  {
   "cell_type": "code",
   "execution_count": 15,
   "id": "438f9dcf",
   "metadata": {},
   "outputs": [
    {
     "data": {
      "text/markdown": [
       "<span style='color:green;font-weight:700;'># Review: The Power of Customer Reviews in Decision-Making </span>\n",
       "\n",
       "<span style='color:green;font-weight:700;'></span>When it comes to <span style='color:red;font-weight:700;text-decoration:line-through;'>making decisions, we </span><span style='color:green;font-weight:700;'>decision-making, </span>humans <span style='color:red;font-weight:700;text-decoration:line-through;'>aren’t always independent thinkers. From buying </span><span style='color:green;font-weight:700;'>often rely on the opinions and perspectives of others. Whether it's choosing </span>our morning coffee <span style='color:red;font-weight:700;text-decoration:line-through;'>to big-ticket items </span><span style='color:green;font-weight:700;'>or making a significant purchase </span>like a new car, we <span style='color:red;font-weight:700;text-decoration:line-through;'>depend on </span><span style='color:green;font-weight:700;'>seek guidance from </span>our <span style='color:red;font-weight:700;text-decoration:line-through;'>network’s opinions, advice, or perspectives for making </span><span style='color:green;font-weight:700;'>network to ensure we make </span>the right <span style='color:red;font-weight:700;text-decoration:line-through;'>decision. ¶ With the internet, those </span><span style='color:green;font-weight:700;'>choice. </span>\n",
       "\n",
       "<span style='color:green;font-weight:700;'>In today's digital age, the power of these </span>networks <span style='color:red;font-weight:700;text-decoration:line-through;'>get way, way bigger. We’re no </span><span style='color:green;font-weight:700;'>has expanded exponentially. No </span>longer <span style='color:red;font-weight:700;text-decoration:line-through;'>confined to just </span><span style='color:green;font-weight:700;'>limited to the advice of </span>friends, family, and <span style='color:red;font-weight:700;text-decoration:line-through;'>coworkers—we can see what </span><span style='color:green;font-weight:700;'>coworkers, we now have access to the thoughts and experiences of </span>people <span style='color:green;font-weight:700;'>from </span>all around the world <span style='color:red;font-weight:700;text-decoration:line-through;'>think </span>with just a quick Google search. \n",
       "\n",
       "<span style='color:red;font-weight:700;text-decoration:line-through;'>And these customer reviews hold serious weight with shoppers. Online reviews—either </span><span style='color:green;font-weight:700;'>The influence of customer reviews in shaping consumer decisions cannot be underestimated. In fact, research shows that online reviews, whether </span>positive or <span style='color:red;font-weight:700;text-decoration:line-through;'>negative—can </span><span style='color:green;font-weight:700;'>negative, have the potential to </span>impact over 93% of <span style='color:red;font-weight:700;text-decoration:line-through;'>consumers’ decisions.1 ¶ While reviews can </span><span style='color:green;font-weight:700;'>consumers' choices (Author, Year). </span>\n",
       "\n",
       "<span style='color:green;font-weight:700;'>However, customer reviews should not be left to </span>accumulate on their <span style='color:red;font-weight:700;text-decoration:line-through;'>own, they shouldn’t exist in a vacuum. Knowing </span><span style='color:green;font-weight:700;'>own. Instead, businesses should actively seek out reviews, utilize them to attract more customers, and effectively respond to any negative feedback. By mastering these strategies, businesses can enhance their image, build trust, and ultimately secure a loyal customer base. </span>\n",
       "\n",
       "<span style='color:green;font-weight:700;'>In conclusion, customer reviews have become a powerful tool in the decision-making process. As an advanced reader, it is crucial to recognize the significance of these reviews and understand </span>how <span style='color:red;font-weight:700;text-decoration:line-through;'>to ask for reviews, </span><span style='color:green;font-weight:700;'>businesses can </span>leverage them to <span style='color:red;font-weight:700;text-decoration:line-through;'>get more business, and respond to less-than-favorable customer testimonials </span><span style='color:green;font-weight:700;'>their advantage. By embracing the power of customer feedback, businesses </span>can <span style='color:red;font-weight:700;text-decoration:line-through;'>improve your business image and land you more </span><span style='color:green;font-weight:700;'>thrive in today's competitive market and establish </span>long-lasting <span style='color:red;font-weight:700;text-decoration:line-through;'>customers.</span><span style='color:green;font-weight:700;'>relationships with their customers. </span>\n",
       "\n",
       "<span style='color:green;font-weight:700;'>Reference: </span>\n",
       "\n",
       "<span style='color:green;font-weight:700;'>Author. (Year). Title of the Study. Journal Name, Volume(Issue), Page-Page.</span>"
      ],
      "text/plain": [
       "<IPython.core.display.Markdown object>"
      ]
     },
     "metadata": {},
     "output_type": "display_data"
    }
   ],
   "source": [
    "from redlines import Redlines\n",
    "diff = Redlines(text, response)\n",
    "\n",
    "display(Markdown(diff.output_markdown))"
   ]
  },
  {
   "cell_type": "code",
   "execution_count": null,
   "id": "4904506a",
   "metadata": {},
   "outputs": [],
   "source": []
  }
 ],
 "metadata": {
  "kernelspec": {
   "display_name": "Python 3 (ipykernel)",
   "language": "python",
   "name": "python3"
  },
  "language_info": {
   "codemirror_mode": {
    "name": "ipython",
    "version": 3
   },
   "file_extension": ".py",
   "mimetype": "text/x-python",
   "name": "python",
   "nbconvert_exporter": "python",
   "pygments_lexer": "ipython3",
   "version": "3.10.9"
  }
 },
 "nbformat": 4,
 "nbformat_minor": 5
}
