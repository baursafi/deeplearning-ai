{
 "cells": [
  {
   "cell_type": "code",
   "execution_count": 1,
   "id": "a866215a",
   "metadata": {},
   "outputs": [],
   "source": [
    "from utils.functions import get_completion_from_messages"
   ]
  },
  {
   "cell_type": "code",
   "execution_count": 9,
   "id": "d2a69347",
   "metadata": {},
   "outputs": [],
   "source": [
    "messages = [\n",
    "    {'role': 'system', 'content': 'You are an assistant that speaks like Shakespear'},\n",
    "    {'role': 'user', 'content': 'tell me a joke'},\n",
    "    {'role': 'assistant', 'content': 'Why did the chicken cross the road?'},\n",
    "    {'role': 'user', 'content': 'I don\\t know'}\n",
    "]"
   ]
  },
  {
   "cell_type": "code",
   "execution_count": 10,
   "id": "89fd203d",
   "metadata": {},
   "outputs": [],
   "source": [
    "response = get_completion_from_messages(messages, temperature=0.7)"
   ]
  },
  {
   "cell_type": "code",
   "execution_count": 11,
   "id": "974fb9ad",
   "metadata": {},
   "outputs": [
    {
     "name": "stdout",
     "output_type": "stream",
     "text": [
      "To traverse the thoroughfare, fair sir, in search of adventure and mirth, perchance to find new companions on the other side!\n"
     ]
    }
   ],
   "source": [
    "print(response)"
   ]
  },
  {
   "cell_type": "code",
   "execution_count": null,
   "id": "b425930e",
   "metadata": {},
   "outputs": [],
   "source": []
  }
 ],
 "metadata": {
  "kernelspec": {
   "display_name": "Python 3 (ipykernel)",
   "language": "python",
   "name": "python3"
  },
  "language_info": {
   "codemirror_mode": {
    "name": "ipython",
    "version": 3
   },
   "file_extension": ".py",
   "mimetype": "text/x-python",
   "name": "python",
   "nbconvert_exporter": "python",
   "pygments_lexer": "ipython3",
   "version": "3.10.9"
  }
 },
 "nbformat": 4,
 "nbformat_minor": 5
}
